{
 "cells": [
  {
   "cell_type": "code",
   "execution_count": 2,
   "id": "176c8704",
   "metadata": {},
   "outputs": [
    {
     "name": "stdout",
     "output_type": "stream",
     "text": [
      "Help on method_descriptor:\n",
      "\n",
      "lower(self, /)\n",
      "    Return a copy of the string converted to lowercase.\n",
      "\n"
     ]
    }
   ],
   "source": [
    "help (str.lower)"
   ]
  },
  {
   "cell_type": "code",
   "execution_count": 15,
   "id": "5a6e3570",
   "metadata": {},
   "outputs": [
    {
     "data": {
      "text/plain": [
       "16"
      ]
     },
     "execution_count": 15,
     "metadata": {},
     "output_type": "execute_result"
    }
   ],
   "source": [
    "x=\"Betty Botter bought some butterBut she said the butter’s bitter If I put it in my batter, it will make my batter bitterBut a bit of better butter will make my batter better So ‘twas better Betty Botter bought a bit of better butter\"\n",
    "\n",
    "x.find('g')"
   ]
  },
  {
   "cell_type": "code",
   "execution_count": 12,
   "id": "f3742e2b",
   "metadata": {},
   "outputs": [
    {
     "name": "stdout",
     "output_type": "stream",
     "text": [
      "Help on method_descriptor:\n",
      "\n",
      "find(...)\n",
      "    S.find(sub[, start[, end]]) -> int\n",
      "    \n",
      "    Return the lowest index in S where substring sub is found,\n",
      "    such that sub is contained within S[start:end].  Optional\n",
      "    arguments start and end are interpreted as in slice notation.\n",
      "    \n",
      "    Return -1 on failure.\n",
      "\n"
     ]
    }
   ],
   "source": [
    "help (str.find)"
   ]
  },
  {
   "cell_type": "code",
   "execution_count": 7,
   "id": "52d0b578",
   "metadata": {},
   "outputs": [
    {
     "data": {
      "text/plain": [
       "-1"
      ]
     },
     "execution_count": 7,
     "metadata": {},
     "output_type": "execute_result"
    }
   ],
   "source": [
    "x.find('z',20,42)"
   ]
  },
  {
   "cell_type": "markdown",
   "id": "e20acd5d",
   "metadata": {},
   "source": [
    "#### Help is an method used to fin\\d the documentaion baised on characters and methods to be find\n"
   ]
  },
  {
   "cell_type": "markdown",
   "id": "84a2512f",
   "metadata": {},
   "source": [
    "### Count-to count how many times a word have been repeated in a string\n"
   ]
  },
  {
   "cell_type": "code",
   "execution_count": 8,
   "id": "f444aa88",
   "metadata": {},
   "outputs": [
    {
     "data": {
      "text/plain": [
       "4"
      ]
     },
     "execution_count": 8,
     "metadata": {},
     "output_type": "execute_result"
    }
   ],
   "source": [
    "x.count('butter')"
   ]
  },
  {
   "cell_type": "code",
   "execution_count": 9,
   "id": "e1fd3863",
   "metadata": {},
   "outputs": [
    {
     "name": "stdout",
     "output_type": "stream",
     "text": [
      "Help on built-in function count:\n",
      "\n",
      "count(...) method of builtins.str instance\n",
      "    S.count(sub[, start[, end]]) -> int\n",
      "    \n",
      "    Return the number of non-overlapping occurrences of substring sub in\n",
      "    string S[start:end].  Optional arguments start and end are\n",
      "    interpreted as in slice notation.\n",
      "\n"
     ]
    }
   ],
   "source": [
    "help(x.count)"
   ]
  },
  {
   "cell_type": "code",
   "execution_count": 10,
   "id": "febde1b4",
   "metadata": {},
   "outputs": [
    {
     "data": {
      "text/plain": [
       "15"
      ]
     },
     "execution_count": 10,
     "metadata": {},
     "output_type": "execute_result"
    }
   ],
   "source": [
    "x.count('b',27)"
   ]
  },
  {
   "cell_type": "markdown",
   "id": "71492cbc",
   "metadata": {},
   "source": [
    "### rfind()\n",
    "\n",
    "* finds the occurance or index of the alphabet or word from the right hand side\n",
    "\n",
    "* In r find the start point should always from high value to low value"
   ]
  },
  {
   "cell_type": "code",
   "execution_count": 16,
   "id": "bf54f6c8",
   "metadata": {},
   "outputs": [
    {
     "data": {
      "text/plain": [
       "195"
      ]
     },
     "execution_count": 16,
     "metadata": {},
     "output_type": "execute_result"
    }
   ],
   "source": [
    "x.rfind('B')"
   ]
  },
  {
   "cell_type": "code",
   "execution_count": 17,
   "id": "c1ef7fe3",
   "metadata": {},
   "outputs": [
    {
     "name": "stdout",
     "output_type": "stream",
     "text": [
      "Help on method_descriptor:\n",
      "\n",
      "rfind(...)\n",
      "    S.rfind(sub[, start[, end]]) -> int\n",
      "    \n",
      "    Return the highest index in S where substring sub is found,\n",
      "    such that sub is contained within S[start:end].  Optional\n",
      "    arguments start and end are interpreted as in slice notation.\n",
      "    \n",
      "    Return -1 on failure.\n",
      "\n"
     ]
    }
   ],
   "source": [
    "help (str.rfind)"
   ]
  },
  {
   "cell_type": "code",
   "execution_count": 19,
   "id": "e56580c7",
   "metadata": {},
   "outputs": [
    {
     "data": {
      "text/plain": [
       "107"
      ]
     },
     "execution_count": 19,
     "metadata": {},
     "output_type": "execute_result"
    }
   ],
   "source": [
    "x.rfind('a',100,112)"
   ]
  },
  {
   "cell_type": "code",
   "execution_count": 20,
   "id": "3b345ef9",
   "metadata": {},
   "outputs": [
    {
     "data": {
      "text/plain": [
       "7"
      ]
     },
     "execution_count": 20,
     "metadata": {},
     "output_type": "execute_result"
    }
   ],
   "source": [
    "'malayalam'.rfind('a',2)\n"
   ]
  },
  {
   "cell_type": "code",
   "execution_count": 22,
   "id": "db486a91",
   "metadata": {},
   "outputs": [
    {
     "data": {
      "text/plain": [
       "3"
      ]
     },
     "execution_count": 22,
     "metadata": {},
     "output_type": "execute_result"
    }
   ],
   "source": [
    "'malayalam'.rfind('a',2,5)"
   ]
  },
  {
   "cell_type": "markdown",
   "id": "4041f9d1",
   "metadata": {},
   "source": [
    "#### index()-depending on your logic if you want to throw an error or dont want to throw an error..find gives an -1 as an output and index gives us an value error"
   ]
  },
  {
   "cell_type": "code",
   "execution_count": 30,
   "id": "e1f4fc0e",
   "metadata": {},
   "outputs": [
    {
     "data": {
      "text/plain": [
       "(1, 1, 7, 4)"
      ]
     },
     "execution_count": 30,
     "metadata": {},
     "output_type": "execute_result"
    }
   ],
   "source": [
    "m='malayalam'\n",
    "\n",
    "m.find('a'),m.index('a'),m.rfind('a'),m.count('a')\n"
   ]
  },
  {
   "cell_type": "code",
   "execution_count": 33,
   "id": "a40ac23f",
   "metadata": {},
   "outputs": [],
   "source": [
    "#m.index(\"z\")#uncomment to see the error"
   ]
  },
  {
   "cell_type": "markdown",
   "id": "6848c2ac",
   "metadata": {},
   "source": [
    "#### rindex()\n"
   ]
  },
  {
   "cell_type": "code",
   "execution_count": 34,
   "id": "e06d1d5c",
   "metadata": {},
   "outputs": [
    {
     "data": {
      "text/plain": [
       "7"
      ]
     },
     "execution_count": 34,
     "metadata": {},
     "output_type": "execute_result"
    }
   ],
   "source": [
    "m.rindex('a')"
   ]
  },
  {
   "cell_type": "code",
   "execution_count": 36,
   "id": "90e57d1b",
   "metadata": {},
   "outputs": [],
   "source": [
    "# m.rindex('z')#uncomment to see the error"
   ]
  },
  {
   "cell_type": "code",
   "execution_count": 37,
   "id": "73b7f9de",
   "metadata": {},
   "outputs": [
    {
     "name": "stdout",
     "output_type": "stream",
     "text": [
      "Help on built-in function replace:\n",
      "\n",
      "replace(old, new, count=-1, /) method of builtins.str instance\n",
      "    Return a copy with all occurrences of substring old replaced by new.\n",
      "    \n",
      "      count\n",
      "        Maximum number of occurrences to replace.\n",
      "        -1 (the default value) means replace all occurrences.\n",
      "    \n",
      "    If the optional argument count is given, only the first count occurrences are\n",
      "    replaced.\n",
      "\n"
     ]
    }
   ],
   "source": [
    "help(m.replace)"
   ]
  },
  {
   "cell_type": "code",
   "execution_count": 38,
   "id": "6a4096d7",
   "metadata": {},
   "outputs": [
    {
     "data": {
      "text/plain": [
       "'MalayalaM'"
      ]
     },
     "execution_count": 38,
     "metadata": {},
     "output_type": "execute_result"
    }
   ],
   "source": [
    "m.replace('m','M')"
   ]
  },
  {
   "cell_type": "code",
   "execution_count": 40,
   "id": "606a2800",
   "metadata": {},
   "outputs": [
    {
     "data": {
      "text/plain": [
       "'Malayalam'"
      ]
     },
     "execution_count": 40,
     "metadata": {},
     "output_type": "execute_result"
    }
   ],
   "source": [
    "m.replace('m','M',1)"
   ]
  },
  {
   "cell_type": "code",
   "execution_count": 41,
   "id": "ad02f5e0",
   "metadata": {},
   "outputs": [
    {
     "data": {
      "text/plain": [
       "'mAlAyAlAm'"
      ]
     },
     "execution_count": 41,
     "metadata": {},
     "output_type": "execute_result"
    }
   ],
   "source": [
    "m.replace('a','A',4)"
   ]
  },
  {
   "cell_type": "markdown",
   "id": "b9592e1e",
   "metadata": {},
   "source": [
    "#### split()\n",
    "* takes an entire string and splits it \n"
   ]
  },
  {
   "cell_type": "code",
   "execution_count": 42,
   "id": "e3d30d86",
   "metadata": {},
   "outputs": [
    {
     "data": {
      "text/plain": [
       "'Betty Botter bought some butterBut she said the butter’s bitter If I put it in my batter, it will make my batter bitterBut a bit of better butter will make my batter better So ‘twas better Betty Botter bought a bit of better butter'"
      ]
     },
     "execution_count": 42,
     "metadata": {},
     "output_type": "execute_result"
    }
   ],
   "source": [
    "x\n"
   ]
  },
  {
   "cell_type": "code",
   "execution_count": 43,
   "id": "cf043bf1",
   "metadata": {},
   "outputs": [
    {
     "data": {
      "text/plain": [
       "['Betty',\n",
       " 'Botter',\n",
       " 'bought',\n",
       " 'some',\n",
       " 'butterBut',\n",
       " 'she',\n",
       " 'said',\n",
       " 'the',\n",
       " 'butter’s',\n",
       " 'bitter',\n",
       " 'If',\n",
       " 'I',\n",
       " 'put',\n",
       " 'it',\n",
       " 'in',\n",
       " 'my',\n",
       " 'batter,',\n",
       " 'it',\n",
       " 'will',\n",
       " 'make',\n",
       " 'my',\n",
       " 'batter',\n",
       " 'bitterBut',\n",
       " 'a',\n",
       " 'bit',\n",
       " 'of',\n",
       " 'better',\n",
       " 'butter',\n",
       " 'will',\n",
       " 'make',\n",
       " 'my',\n",
       " 'batter',\n",
       " 'better',\n",
       " 'So',\n",
       " '‘twas',\n",
       " 'better',\n",
       " 'Betty',\n",
       " 'Botter',\n",
       " 'bought',\n",
       " 'a',\n",
       " 'bit',\n",
       " 'of',\n",
       " 'better',\n",
       " 'butter']"
      ]
     },
     "execution_count": 43,
     "metadata": {},
     "output_type": "execute_result"
    }
   ],
   "source": [
    "x.split()"
   ]
  },
  {
   "cell_type": "code",
   "execution_count": 45,
   "id": "67893dce",
   "metadata": {},
   "outputs": [
    {
     "name": "stdout",
     "output_type": "stream",
     "text": [
      "Help on built-in function split:\n",
      "\n",
      "split(sep=None, maxsplit=-1) method of builtins.str instance\n",
      "    Return a list of the substrings in the string, using sep as the separator string.\n",
      "    \n",
      "      sep\n",
      "        The separator used to split the string.\n",
      "    \n",
      "        When set to None (the default value), will split on any whitespace\n",
      "        character (including \\\\n \\\\r \\\\t \\\\f and spaces) and will discard\n",
      "        empty strings from the result.\n",
      "      maxsplit\n",
      "        Maximum number of splits (starting from the left).\n",
      "        -1 (the default value) means no limit.\n",
      "    \n",
      "    Note, str.split() is mainly useful for data that has been intentionally\n",
      "    delimited.  With natural text that includes punctuation, consider using\n",
      "    the regular expression module.\n",
      "\n"
     ]
    }
   ],
   "source": [
    "help(x.split)"
   ]
  },
  {
   "cell_type": "code",
   "execution_count": 46,
   "id": "dc81d526",
   "metadata": {},
   "outputs": [
    {
     "data": {
      "text/plain": [
       "['Betty',\n",
       " 'Botter',\n",
       " 'bought',\n",
       " 'some',\n",
       " 'butterBut',\n",
       " 'she said the butter’s bitter If I put it in my batter, it will make my batter bitterBut a bit of better butter will make my batter better So ‘twas better Betty Botter bought a bit of better butter']"
      ]
     },
     "execution_count": 46,
     "metadata": {},
     "output_type": "execute_result"
    }
   ],
   "source": [
    "x.split(' ',maxsplit =5 ) #it splits from left to right"
   ]
  },
  {
   "cell_type": "code",
   "execution_count": 47,
   "id": "02ca302c",
   "metadata": {},
   "outputs": [
    {
     "data": {
      "text/plain": [
       "True"
      ]
     },
     "execution_count": 47,
     "metadata": {},
     "output_type": "execute_result"
    }
   ],
   "source": [
    "'rsplit' in dir(str)"
   ]
  },
  {
   "cell_type": "code",
   "execution_count": 52,
   "id": "7e56379f",
   "metadata": {
    "scrolled": true
   },
   "outputs": [],
   "source": [
    "s = x.rsplit()\n",
    "H = x.split()"
   ]
  },
  {
   "cell_type": "code",
   "execution_count": 53,
   "id": "21f70f58",
   "metadata": {},
   "outputs": [
    {
     "data": {
      "text/plain": [
       "True"
      ]
     },
     "execution_count": 53,
     "metadata": {},
     "output_type": "execute_result"
    }
   ],
   "source": [
    "s==H\n"
   ]
  },
  {
   "cell_type": "code",
   "execution_count": 54,
   "id": "f6464b37",
   "metadata": {},
   "outputs": [
    {
     "data": {
      "text/plain": [
       "['Betty Botter bought some butterBut she said the butter’s bitter If I put it in my batter, it will make my batter bitterBut a bit of better butter will make my batter better So ‘twas better Betty Botter bought a',\n",
       " 'bit',\n",
       " 'of',\n",
       " 'better',\n",
       " 'butter']"
      ]
     },
     "execution_count": 54,
     "metadata": {},
     "output_type": "execute_result"
    }
   ],
   "source": [
    "x.rsplit(maxsplit=4)# it splits from right to left"
   ]
  },
  {
   "cell_type": "markdown",
   "id": "84f54763",
   "metadata": {},
   "source": [
    "#### partition(),rpartition()\n",
    "\n",
    "* partiotion will give three tokens,into three parts"
   ]
  },
  {
   "cell_type": "code",
   "execution_count": 55,
   "id": "6e9f4919",
   "metadata": {},
   "outputs": [
    {
     "data": {
      "text/plain": [
       "('Betty',\n",
       " ' ',\n",
       " 'Botter bought some butterBut she said the butter’s bitter If I put it in my batter, it will make my batter bitterBut a bit of better butter will make my batter better So ‘twas better Betty Botter bought a bit of better butter')"
      ]
     },
     "execution_count": 55,
     "metadata": {},
     "output_type": "execute_result"
    }
   ],
   "source": [
    "x.partition(' ')"
   ]
  },
  {
   "cell_type": "code",
   "execution_count": 56,
   "id": "907207b8",
   "metadata": {},
   "outputs": [
    {
     "data": {
      "text/plain": [
       "['m', 'l', 'y', 'l', 'm']"
      ]
     },
     "execution_count": 56,
     "metadata": {},
     "output_type": "execute_result"
    }
   ],
   "source": [
    "m.split('a')"
   ]
  },
  {
   "cell_type": "code",
   "execution_count": 57,
   "id": "06a8f926",
   "metadata": {},
   "outputs": [
    {
     "data": {
      "text/plain": [
       "('m', 'a', 'layalam')"
      ]
     },
     "execution_count": 57,
     "metadata": {},
     "output_type": "execute_result"
    }
   ],
   "source": [
    "m.partition('a')"
   ]
  },
  {
   "cell_type": "code",
   "execution_count": 58,
   "id": "0903abdf",
   "metadata": {},
   "outputs": [
    {
     "data": {
      "text/plain": [
       "('mala', 'y', 'alam')"
      ]
     },
     "execution_count": 58,
     "metadata": {},
     "output_type": "execute_result"
    }
   ],
   "source": [
    "m.partition('y')"
   ]
  },
  {
   "cell_type": "code",
   "execution_count": 59,
   "id": "ebabb2fe",
   "metadata": {},
   "outputs": [
    {
     "data": {
      "text/plain": [
       "['malayalam']"
      ]
     },
     "execution_count": 59,
     "metadata": {},
     "output_type": "execute_result"
    }
   ],
   "source": [
    "m.split('z')"
   ]
  },
  {
   "cell_type": "code",
   "execution_count": 60,
   "id": "793dc2ee",
   "metadata": {},
   "outputs": [
    {
     "data": {
      "text/plain": [
       "('malayalam', '', '')"
      ]
     },
     "execution_count": 60,
     "metadata": {},
     "output_type": "execute_result"
    }
   ],
   "source": [
    "m.partition('z')#gives two empty strings if it doesnt have the alphabet in the string then it will show the default empty strings"
   ]
  },
  {
   "cell_type": "code",
   "execution_count": 62,
   "id": "89bac425",
   "metadata": {},
   "outputs": [
    {
     "data": {
      "text/plain": [
       "'malayalam'"
      ]
     },
     "execution_count": 62,
     "metadata": {},
     "output_type": "execute_result"
    }
   ],
   "source": [
    "m.partition('z')[0]+m.partition('z')[1]+m.partition('z')[2]"
   ]
  },
  {
   "cell_type": "markdown",
   "id": "93b4eaed",
   "metadata": {},
   "source": [
    "### rpartition"
   ]
  },
  {
   "cell_type": "code",
   "execution_count": 63,
   "id": "1e7e1398",
   "metadata": {},
   "outputs": [
    {
     "data": {
      "text/plain": [
       "('malayal', 'a', 'm')"
      ]
     },
     "execution_count": 63,
     "metadata": {},
     "output_type": "execute_result"
    }
   ],
   "source": [
    "m.rpartition('a')"
   ]
  },
  {
   "cell_type": "code",
   "execution_count": 64,
   "id": "0a920ded",
   "metadata": {},
   "outputs": [
    {
     "data": {
      "text/plain": [
       "('', '', 'malayalam')"
      ]
     },
     "execution_count": 64,
     "metadata": {},
     "output_type": "execute_result"
    }
   ],
   "source": [
    "m.rpartition('z')"
   ]
  },
  {
   "cell_type": "markdown",
   "id": "1af36f4d",
   "metadata": {},
   "source": [
    "### split lines"
   ]
  },
  {
   "cell_type": "code",
   "execution_count": 68,
   "id": "6a0c8d37",
   "metadata": {},
   "outputs": [
    {
     "name": "stdout",
     "output_type": "stream",
     "text": [
      "Help on built-in function splitlines:\n",
      "\n",
      "splitlines(keepends=False) method of builtins.str instance\n",
      "    Return a list of the lines in the string, breaking at line boundaries.\n",
      "    \n",
      "    Line breaks are not included in the resulting list unless keepends is given and\n",
      "    true.\n",
      "\n"
     ]
    }
   ],
   "source": [
    "help(x.splitlines)"
   ]
  },
  {
   "cell_type": "code",
   "execution_count": 69,
   "id": "dd82b730",
   "metadata": {},
   "outputs": [
    {
     "data": {
      "text/plain": [
       "['Betty Botter bought some butterBut she said the butter’s bitter If I put it in my batter, it will make my batter bitterBut a bit of better butter will make my batter better So ‘twas better Betty Botter bought a bit of better butter']"
      ]
     },
     "execution_count": 69,
     "metadata": {},
     "output_type": "execute_result"
    }
   ],
   "source": [
    "x.split('\\n')"
   ]
  },
  {
   "cell_type": "code",
   "execution_count": 70,
   "id": "c974f538",
   "metadata": {},
   "outputs": [
    {
     "data": {
      "text/plain": [
       "['Betty Botter bought some butterBut she said the butter’s bitter If I put it in my batter, it will make my batter bitterBut a bit of better butter will make my batter better So ‘twas better Betty Botter bought a bit of better butter']"
      ]
     },
     "execution_count": 70,
     "metadata": {},
     "output_type": "execute_result"
    }
   ],
   "source": [
    "x.splitlines()"
   ]
  },
  {
   "cell_type": "code",
   "execution_count": null,
   "id": "5dc6f460",
   "metadata": {},
   "outputs": [],
   "source": []
  }
 ],
 "metadata": {
  "kernelspec": {
   "display_name": "Python 3 (ipykernel)",
   "language": "python",
   "name": "python3"
  },
  "language_info": {
   "codemirror_mode": {
    "name": "ipython",
    "version": 3
   },
   "file_extension": ".py",
   "mimetype": "text/x-python",
   "name": "python",
   "nbconvert_exporter": "python",
   "pygments_lexer": "ipython3",
   "version": "3.11.5"
  }
 },
 "nbformat": 4,
 "nbformat_minor": 5
}
